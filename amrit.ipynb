{
 "cells": [
  {
   "cell_type": "markdown",
   "id": "5f7a0672-38b8-4455-80d9-fd968d80cfd9",
   "metadata": {},
   "source": [
    "### Authors\n",
    "- Elise Gonzales, UC Santa Barbara\n",
    "- Lewis White, UC Santa Barbara\n",
    "- Amrit Sandhu, UC Santa Barbara"
   ]
  },
  {
   "cell_type": "markdown",
   "id": "505d54b3-bfe5-4e8f-a0b6-926b06231535",
   "metadata": {},
   "source": [
    "## Table of Contents\n",
    "Include a summary of the various sections included in your notebook, so that users can easily skip to a section of interest. It's also good to include hyperlinks to the different sections, so that clicking on the heading sends one to that section directly. Examples are below; see also this handy guide to adding hyperlinks to Jupyter notebooks: https://medium.illumidesk.com/jupyter-notebook-little-known-tricks-b0866a558017\n",
    "\n",
    "The major sections you'll need for HW2 - and your group project - are shown below:\n",
    "\n",
    "1. Purpose\n",
    "\n",
    "2. Dataset Description\n",
    "\n",
    "3. Data I/O\n",
    "\n",
    "4. Metadata Display and Basic Visualization\n",
    "\n",
    "5. Use Case Examples\n",
    "\n",
    "6. Create Binder Environment\n",
    "\n",
    "7. References"
   ]
  },
  {
   "cell_type": "markdown",
   "id": "3e241638-c7b6-4781-b444-9620523932e6",
   "metadata": {},
   "source": [
    "### Purpose\n",
    "The goal of our project is to map the flood events in the Philippines ranging from 2000 to 2018. The Philippines is a series of islands in Southeast Asia with multiple climates. The country is exposed to many earthquakes daily usually not felt and many active  Climate change has led to more extreme weather patterns including heavier rainfall and storm surges. A series of tropical storms led to mass destruction and human life over the past few decades. "
   ]
  },
  {
   "cell_type": "markdown",
   "id": "557d9402-d278-47f4-94c7-8eac1ee54492",
   "metadata": {},
   "source": [
    "### Dataset Description"
   ]
  },
  {
   "cell_type": "markdown",
   "id": "ff423dd3-8f95-41ac-bfae-f796135817c8",
   "metadata": {},
   "source": [
    "This portion of the notebook should contain a summary description of your chosen environmental dataset. In a few paragraphs, discuss:\n",
    "\n",
    "- The creator of the dataset: Dartmouth Flood Observatory\n",
    "- Major characteristics of the dataset: Temporal resolution, ranges from 2000 to 2018\n",
    "- The file format(s) used to store the data:\n",
    "- Source used to retrieve data: Google Earth Engine\n",
    "\n",
    "- Any known issues with data quality that might be expected to impact the results"
   ]
  },
  {
   "cell_type": "code",
   "execution_count": null,
   "id": "323a0631-4e99-4893-a561-23e3b2833d29",
   "metadata": {},
   "outputs": [],
   "source": []
  },
  {
   "cell_type": "markdown",
   "id": "10f54409-adad-4e1a-9d15-504555702e50",
   "metadata": {},
   "source": [
    "### Dataset Input/Output"
   ]
  },
  {
   "cell_type": "code",
   "execution_count": null,
   "id": "0ad7ab4f-c4f1-4110-9b58-48b3740238b1",
   "metadata": {},
   "outputs": [],
   "source": [
    "import ee\n",
    "import geemap\n",
    "import pandas as pd\n",
    "import cartopy\n",
    "import cartopy.crs as ccrs\n",
    "from geemap import cartoee\n",
    "import matplotlib.pyplot as plt"
   ]
  },
  {
   "cell_type": "code",
   "execution_count": null,
   "id": "c79496b2-b311-4e80-b57b-907a849aee34",
   "metadata": {},
   "outputs": [],
   "source": [
    "gfd = ee.ImageCollection(\"GLOBAL_FLOOD_DB/MODIS_EVENTS/V1\")"
   ]
  },
  {
   "cell_type": "code",
   "execution_count": 2,
   "id": "8717ad56-3f8a-4077-9d57-8b4ca165aac7",
   "metadata": {},
   "outputs": [],
   "source": [
    "# Authenticate and initialize Google Earth Engine\n",
    "#ee.Authenticate()\n",
    "ee.Initialize()"
   ]
  },
  {
   "cell_type": "markdown",
   "id": "24f4acc0-0b54-4e47-973e-8ad98712fbab",
   "metadata": {},
   "source": [
    "### Metadata Display and Basic Visualization"
   ]
  },
  {
   "cell_type": "code",
   "execution_count": 3,
   "id": "5f6c5390-55c2-4bb7-8fa4-96a3e20f8cad",
   "metadata": {},
   "outputs": [],
   "source": [
    "gfd = ee.ImageCollection(\"GLOBAL_FLOOD_DB/MODIS_EVENTS/V1\")"
   ]
  },
  {
   "cell_type": "code",
   "execution_count": 4,
   "id": "0b479142-80c4-4925-b10d-f4d44bcc3167",
   "metadata": {},
   "outputs": [
    {
     "data": {
      "application/vnd.jupyter.widget-view+json": {
       "model_id": "4e63ec90f74741a0a74c99f54debdded",
       "version_major": 2,
       "version_minor": 0
      },
      "text/plain": [
       "Map(center=[29.4064, -90.2922], controls=(ZoomControl(options=['position', 'zoom_in_text', 'zoom_in_title', 'z…"
      ]
     },
     "execution_count": 4,
     "metadata": {},
     "output_type": "execute_result"
    }
   ],
   "source": [
    "hurricaneIsaacDartmouthId = 3977;\n",
    "\n",
    "hurricaneIsaacUsa = ee.Image(gfd.filterMetadata('id', 'equals', hurricaneIsaacDartmouthId).first());\n",
    "\n",
    "Map = geemap.Map(center=[29.4064, -90.2922], zoom=8)\n",
    "\n",
    "Map.setOptions('SATELLITE')\n",
    "\n",
    "Map.setCenter(-90.2922, 29.4064, 9)\n",
    "\n",
    "Map.addLayer(hurricaneIsaacUsa.select('flooded').selfMask(),\n",
    "             {'min': 0, 'max': 1, 'palette': ['00FFFF', '0000FF']},\n",
    "             'Hurricane Isaac - Inundation Extent')\n",
    "Map"
   ]
  },
  {
   "cell_type": "code",
   "execution_count": null,
   "id": "db039d77-fb88-41cc-83fd-4246f2da2cce",
   "metadata": {},
   "outputs": [],
   "source": []
  }
 ],
 "metadata": {
  "kernelspec": {
   "display_name": "carto",
   "language": "python",
   "name": "carto"
  },
  "language_info": {
   "codemirror_mode": {
    "name": "ipython",
    "version": 3
   },
   "file_extension": ".py",
   "mimetype": "text/x-python",
   "name": "python",
   "nbconvert_exporter": "python",
   "pygments_lexer": "ipython3",
   "version": "3.8.13"
  }
 },
 "nbformat": 4,
 "nbformat_minor": 5
}
